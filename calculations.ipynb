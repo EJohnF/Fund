{
 "cells": [
  {
   "cell_type": "code",
   "execution_count": 2,
   "metadata": {
    "collapsed": true
   },
   "outputs": [],
   "source": [
    "import numpy as np\n",
    "import matplotlib.pyplot as plt\n",
    "from datetime import date\n",
    "from dateutil.relativedelta import relativedelta"
   ]
  },
  {
   "cell_type": "code",
   "execution_count": 44,
   "metadata": {},
   "outputs": [],
   "source": [
    "initialDonation = 0\n",
    "together = 0\n",
    "growthEachYear = 0\n",
    "interestRate = 0\n",
    "initialDate = date(2018,1,1)\n",
    "monthsToPay = 150\n",
    "\n",
    "def init():\n",
    "    global initialDonation, together, growthEachYear, interestRate, initialDate\n",
    "    initialDonation = 10000\n",
    "    together = initialDonation * 2\n",
    "    growthEachYear = 0.1\n",
    "    interestRate = 0.07\n",
    "    initialDate = date(2018,1,1)\n",
    "    \n",
    "init()"
   ]
  },
  {
   "cell_type": "code",
   "execution_count": 45,
   "metadata": {},
   "outputs": [
    {
     "name": "stdout",
     "output_type": "stream",
     "text": [
      "end year № 1  -  2018 overall sum:  247852 sum to pay:  11000 fund income:  1446\nend year № 2  -  2019 overall sum:  538406 sum to pay:  12100 fund income:  3141\nend year № 3  -  2020 overall sum:  877228 sum to pay:  13310 fund income:  5117\nend year № 4  -  2021 overall sum:  1270533 sum to pay:  14641 fund income:  7411\nend year № 5  -  2022 overall sum:  1725260 sum to pay:  16105 fund income:  10064\nend year № 6  -  2023 overall sum:  2249147 sum to pay:  17716 fund income:  13120\nend year № 7  -  2024 overall sum:  2850822 sum to pay:  19487 fund income:  16630\nend year № 8  -  2025 overall sum:  3539901 sum to pay:  21436 fund income:  20649\nend year № 9  -  2026 overall sum:  4327093 sum to pay:  23579 fund income:  25241\nend year № 10  -  2027 overall sum:  5224320 sum to pay:  25937 fund income:  30475\nend year № 11  -  2028 overall sum:  6244850 sum to pay:  28531 fund income:  36428\nend year № 12  -  2029 overall sum:  7403441 sum to pay:  31384 fund income:  43187\nend year № 13  -  2030 overall sum:  8334355 sum to pay:  0 fund income:  48617\nend year № 14  -  2031 overall sum:  8936846 sum to pay:  0 fund income:  52132\nend year № 15  -  2032 overall sum:  9582891 sum to pay:  0 fund income:  55900\nend year № 16  -  2033 overall sum:  10275639 sum to pay:  0 fund income:  59941\nend year № 17  -  2034 overall sum:  11018466 sum to pay:  0 fund income:  64274\nend year № 18  -  2035 overall sum:  11814991 sum to pay:  0 fund income:  68921\nend year № 19  -  2036 overall sum:  12669098 sum to pay:  0 fund income:  73903\nend year № 20  -  2037 overall sum:  13584948 sum to pay:  0 fund income:  79246\nend year № 21  -  2038 overall sum:  14567005 sum to pay:  0 fund income:  84974\nend year № 22  -  2039 overall sum:  15620055 sum to pay:  0 fund income:  91117\nend year № 23  -  2040 overall sum:  16749230 sum to pay:  0 fund income:  97704\nend year № 24  -  2041 overall sum:  17960034 sum to pay:  0 fund income:  104767\n"
     ]
    }
   ],
   "source": [
    "init()\n",
    "overall = 0\n",
    "currentDate = initialDate\n",
    "for i in range(300):\n",
    "    if i % 12 == 0 and i != 0:\n",
    "        initialDonation =  initialDonation * (1 + growthEachYear) if (i < monthsToPay) else 0\n",
    "        together = initialDonation * 2\n",
    "        print('end year №', '%.0f' % (i/12), ' - ', currentDate.year - 1, \n",
    "              'overall sum: ', '%.0f' % overall, \n",
    "              'sum to pay: ', '%.0f' % initialDonation,\n",
    "              'fund income: ', '%.0f' % (overall * (interestRate/12.0)))\n",
    "    currentDate += relativedelta(months=1)\n",
    "    overall = overall * (1 + interestRate/12.0) + ( together if i < monthsToPay else 0)"
   ]
  },
  {
   "cell_type": "code",
   "execution_count": null,
   "metadata": {},
   "outputs": [],
   "source": [
    ""
   ]
  }
 ],
 "metadata": {
  "kernelspec": {
   "display_name": "Python 2",
   "language": "python",
   "name": "python2"
  },
  "language_info": {
   "codemirror_mode": {
    "name": "ipython",
    "version": 2.0
   },
   "file_extension": ".py",
   "mimetype": "text/x-python",
   "name": "python",
   "nbconvert_exporter": "python",
   "pygments_lexer": "ipython2",
   "version": "2.7.6"
  }
 },
 "nbformat": 4,
 "nbformat_minor": 0
}